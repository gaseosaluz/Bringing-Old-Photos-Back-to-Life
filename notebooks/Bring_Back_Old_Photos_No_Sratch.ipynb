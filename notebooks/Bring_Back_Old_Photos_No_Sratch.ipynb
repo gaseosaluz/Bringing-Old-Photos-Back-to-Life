{
 "cells": [
  {
   "cell_type": "markdown",
   "id": "645a4d79",
   "metadata": {},
   "source": [
    "# Bring Old Photos Back - No Scratches"
   ]
  },
  {
   "cell_type": "markdown",
   "id": "db2299a4",
   "metadata": {},
   "source": [
    "Jupyter Notebook version of the **Full Pipeline** example in the original Git repo from the Old Photo Restoration (Official Pytorch Implementation).\n",
    "\n",
    "This example will replicate the functionality from the **How to Use?** section (https://github.com/gaseosaluz/Bringing-Old-Photos-Back-to-Life#rocket-how-to-use). It will 'unwrap' the code from the `python run.py` command into Jupyter Notebook cells.  This is being done so that I can learn how the model and the sample code is applied to repair the various picture examples.\n",
    "\n",
    "Once the code has been unwrapped, the code will replicate the test results using the test data from the original repository."
   ]
  },
  {
   "cell_type": "markdown",
   "id": "e1ed2274",
   "metadata": {},
   "source": [
    "## Refereces"
   ]
  },
  {
   "cell_type": "markdown",
   "id": "eba68a58",
   "metadata": {},
   "source": [
    "* Old Photo Restoration (Official PyTorch Implementation). https://github.com/gaseosaluz/Bringing-Old-Photos-Back-to-Life#rocket-how-to-use. **NOTE** This link is a link to my fork of the initial repository. I use this so that I can check in my additinal work w/o generating pull requests into the original repository.\n",
    "\n",
    "* TBD"
   ]
  },
  {
   "cell_type": "markdown",
   "id": "0bceccda",
   "metadata": {},
   "source": [
    "## Setup\n",
    "\n",
    "Environment setup"
   ]
  },
  {
   "cell_type": "code",
   "execution_count": 1,
   "id": "b32829b4",
   "metadata": {},
   "outputs": [],
   "source": [
    "import os\n",
    "import shutil\n",
    "import sys\n",
    "from subprocess import call"
   ]
  },
  {
   "cell_type": "markdown",
   "id": "715ce1c5",
   "metadata": {},
   "source": [
    "## Functions\n",
    "These are functions from the original python code.  They are here temporarily and will eventually be replaced by various Jupyter cells that do the same job"
   ]
  },
  {
   "cell_type": "code",
   "execution_count": 2,
   "id": "fa0dd34d",
   "metadata": {},
   "outputs": [],
   "source": [
    "def run_cmd(command):\n",
    "    try:\n",
    "        call(command, shell=True)\n",
    "    except KeyboardInterrupt:\n",
    "        print(\"Process interrupted\")\n",
    "        sys.exit(1)\n"
   ]
  },
  {
   "cell_type": "markdown",
   "id": "f455d9f0",
   "metadata": {},
   "source": [
    "## Program parameters\n",
    "\n",
    "These are the parameters that were passed to the original Python code via the command line parser"
   ]
  },
  {
   "cell_type": "markdown",
   "id": "40c05692",
   "metadata": {},
   "source": [
    "### Configuration Section"
   ]
  },
  {
   "cell_type": "markdown",
   "id": "47914238",
   "metadata": {},
   "source": [
    "Image locations"
   ]
  },
  {
   "cell_type": "code",
   "execution_count": 5,
   "id": "966d37b1",
   "metadata": {},
   "outputs": [],
   "source": [
    "# Location for the input image(s)\n",
    "INPUT_FOLDER = \"./test_images/old\"\n",
    "\n",
    "# Location for the output (restored) Image(s)\n",
    "OUTPUT_FOLDER = \"./output\""
   ]
  },
  {
   "cell_type": "code",
   "execution_count": 6,
   "id": "c9e97e0a",
   "metadata": {},
   "outputs": [],
   "source": [
    "# GPU or CPU selection flags. The default is to ue 1 GPU since that is what I have in my system"
   ]
  },
  {
   "cell_type": "code",
   "execution_count": 7,
   "id": "ec3bfbc9",
   "metadata": {},
   "outputs": [],
   "source": [
    "GPU = 0\n",
    "CPU = 0"
   ]
  },
  {
   "cell_type": "markdown",
   "id": "cb6adb7b",
   "metadata": {},
   "source": [
    "Resolution flags"
   ]
  },
  {
   "cell_type": "code",
   "execution_count": 8,
   "id": "c26e5dec",
   "metadata": {},
   "outputs": [],
   "source": [
    "HR = True"
   ]
  },
  {
   "cell_type": "markdown",
   "id": "b89153ba",
   "metadata": {},
   "source": [
    "Scratch Flags"
   ]
  },
  {
   "cell_type": "code",
   "execution_count": 9,
   "id": "323f428e",
   "metadata": {},
   "outputs": [],
   "source": [
    "WITH_SCRATCH = True"
   ]
  },
  {
   "cell_type": "markdown",
   "id": "c4d99e02",
   "metadata": {},
   "source": [
    "### Set up program configurations (Using Configuration Section Data)"
   ]
  },
  {
   "cell_type": "code",
   "execution_count": 10,
   "id": "0acf6992",
   "metadata": {},
   "outputs": [],
   "source": [
    "gpu = GPU\n",
    "input_folder = os.path.abspath(INPUT_FOLDER)\n",
    "output_folder = os.path.abspath(OUTPUT_FOLDER)\n",
    "\n",
    "if not os.path.exists(output_folder):\n",
    "    os.makedirs(output_folder)\n"
   ]
  },
  {
   "cell_type": "code",
   "execution_count": 12,
   "id": "71ca1ce4",
   "metadata": {},
   "outputs": [
    {
     "name": "stdout",
     "output_type": "stream",
     "text": [
      "/mnt/work/dev/Bringing-Old-Photos-Back-to-Life/notebooks/test_images/old\n",
      "/mnt/work/dev/Bringing-Old-Photos-Back-to-Life/notebooks/output\n"
     ]
    }
   ],
   "source": [
    "print(input_folder)\n",
    "print(output_folder)"
   ]
  },
  {
   "cell_type": "code",
   "execution_count": null,
   "id": "216f7cf1",
   "metadata": {},
   "outputs": [],
   "source": []
  },
  {
   "cell_type": "code",
   "execution_count": null,
   "id": "27c839ad",
   "metadata": {},
   "outputs": [],
   "source": []
  },
  {
   "cell_type": "code",
   "execution_count": null,
   "id": "aa54590a",
   "metadata": {},
   "outputs": [],
   "source": []
  },
  {
   "cell_type": "code",
   "execution_count": null,
   "id": "c7a82dbe",
   "metadata": {},
   "outputs": [],
   "source": []
  },
  {
   "cell_type": "code",
   "execution_count": null,
   "id": "8f32aea7",
   "metadata": {},
   "outputs": [],
   "source": []
  },
  {
   "cell_type": "code",
   "execution_count": null,
   "id": "81f685f5",
   "metadata": {},
   "outputs": [],
   "source": []
  },
  {
   "cell_type": "code",
   "execution_count": null,
   "id": "05f22443",
   "metadata": {},
   "outputs": [],
   "source": []
  },
  {
   "cell_type": "code",
   "execution_count": null,
   "id": "1ece2ec0",
   "metadata": {},
   "outputs": [],
   "source": []
  },
  {
   "cell_type": "code",
   "execution_count": null,
   "id": "52fe7651",
   "metadata": {},
   "outputs": [],
   "source": []
  },
  {
   "cell_type": "code",
   "execution_count": null,
   "id": "d68be3de",
   "metadata": {},
   "outputs": [],
   "source": []
  },
  {
   "cell_type": "code",
   "execution_count": null,
   "id": "08671f73",
   "metadata": {},
   "outputs": [],
   "source": []
  }
 ],
 "metadata": {
  "kernelspec": {
   "display_name": "Python 3 (ipykernel)",
   "language": "python",
   "name": "python3"
  },
  "language_info": {
   "codemirror_mode": {
    "name": "ipython",
    "version": 3
   },
   "file_extension": ".py",
   "mimetype": "text/x-python",
   "name": "python",
   "nbconvert_exporter": "python",
   "pygments_lexer": "ipython3",
   "version": "3.7.11"
  }
 },
 "nbformat": 4,
 "nbformat_minor": 5
}
