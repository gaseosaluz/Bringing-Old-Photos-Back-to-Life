{
 "cells": [
  {
   "cell_type": "markdown",
   "id": "27dd9129",
   "metadata": {},
   "source": [
    "# Bring Old Photos Back - No Scratches"
   ]
  },
  {
   "cell_type": "markdown",
   "id": "b1c8b94d",
   "metadata": {},
   "source": [
    "Jupyter Notebook version of the **Full Pipeline** example in the original Git repo from the Old Photo Restoration (Official Pytorch Implementation).\n",
    "\n",
    "This example will replicate the functionality from the **How to Use?** section (https://github.com/gaseosaluz/Bringing-Old-Photos-Back-to-Life#rocket-how-to-use). It will 'unwrap' the code from the `python run.py` command into Jupyter Notebook cells.  This is being done so that I can learn how the model and the sample code is applied to repair the various picture examples.\n",
    "\n",
    "Once the code has been unwrapped, the code will replicate the test results using the test data from the original repository."
   ]
  },
  {
   "cell_type": "markdown",
   "id": "dab68e0d",
   "metadata": {},
   "source": [
    "## Refereces"
   ]
  },
  {
   "cell_type": "markdown",
   "id": "b89bc2e9",
   "metadata": {},
   "source": [
    "* Old Photo Restoration (Official PyTorch Implementation). https://github.com/gaseosaluz/Bringing-Old-Photos-Back-to-Life#rocket-how-to-use. **NOTE** This link is a link to my fork of the initial repository. I use this so that I can check in my additinal work w/o generating pull requests into the original repository.\n",
    "\n",
    "* Colab version of the project: https://colab.research.google.com/drive/1NEm6AsybIiC5TwTU_4DqDkQO0nFRB-uA?usp=sharing"
   ]
  },
  {
   "cell_type": "markdown",
   "id": "98f04dc7",
   "metadata": {},
   "source": [
    "## Development Notes\n",
    "\n",
    "* Current version of notebook assumes that the Synchronized-Batch-PyTorch repository has been cloned per instructions in the Microsoft Project's README.\n",
    "\n",
    "* Landmark detection pretrained model has also been previously downloaded per instructions in Microsoft Project's README\n",
    "\n",
    "* Checkpoints have been downloaded\n",
    "\n",
    "* Developmenet environment: dalontf. I created this conda development environment manually (did not use `pip` as described in README"
   ]
  },
  {
   "cell_type": "markdown",
   "id": "cb913665",
   "metadata": {},
   "source": [
    "## Notebook Run Time Notes\n",
    "\n",
    "* This notebook assumes that there is a GPU present. If this is not set then the notebook will not run and/or produced indeterminate results\n",
    "\n",
    "* TBD "
   ]
  },
  {
   "cell_type": "markdown",
   "id": "0d8e372e",
   "metadata": {},
   "source": [
    "## Setup\n",
    "\n",
    "Environment setup"
   ]
  },
  {
   "cell_type": "code",
   "execution_count": 1,
   "id": "4ecc955b",
   "metadata": {},
   "outputs": [],
   "source": [
    "import os\n",
    "import shutil\n",
    "import sys\n",
    "from subprocess import call"
   ]
  },
  {
   "cell_type": "markdown",
   "id": "96867460",
   "metadata": {},
   "source": [
    "Needed to display results "
   ]
  },
  {
   "cell_type": "code",
   "execution_count": 2,
   "id": "8d07ebaf",
   "metadata": {},
   "outputs": [],
   "source": [
    "import io\n",
    "import IPython.display\n",
    "import numpy as np\n",
    "import PIL.Image"
   ]
  },
  {
   "cell_type": "markdown",
   "id": "9f00b52e",
   "metadata": {},
   "source": [
    "## Functions\n",
    "These are functions from the original python code.  They are here temporarily and will eventually be replaced by various Jupyter cells that do the same job"
   ]
  },
  {
   "cell_type": "code",
   "execution_count": 3,
   "id": "0998b17b",
   "metadata": {},
   "outputs": [],
   "source": [
    "def run_cmd(command):\n",
    "    try:\n",
    "        call(command, shell=True)\n",
    "    except KeyboardInterrupt:\n",
    "        print(\"Process interrupted\")\n",
    "        sys.exit(1)\n"
   ]
  },
  {
   "cell_type": "markdown",
   "id": "7ae4ccc7",
   "metadata": {},
   "source": [
    "## Program parameters\n",
    "\n",
    "These are the parameters that were passed to the original Python code via the command line parser"
   ]
  },
  {
   "cell_type": "markdown",
   "id": "f7b11ded",
   "metadata": {},
   "source": [
    "### Configuration Section"
   ]
  },
  {
   "cell_type": "markdown",
   "id": "c4e8a08e",
   "metadata": {},
   "source": [
    "Image locations"
   ]
  },
  {
   "cell_type": "code",
   "execution_count": 4,
   "id": "ac270f49",
   "metadata": {},
   "outputs": [],
   "source": [
    "# Location for the input image(s)\n",
    "INPUT_FOLDER = \"../test_images/old\"\n",
    "\n",
    "# Location for the output (restored) Image(s)\n",
    "OUTPUT_FOLDER = \"../output\""
   ]
  },
  {
   "cell_type": "code",
   "execution_count": 5,
   "id": "39fcbd91",
   "metadata": {},
   "outputs": [],
   "source": [
    "# GPU or CPU selection flags. The default is to ue 1 GPU since that is what I have in my system"
   ]
  },
  {
   "cell_type": "code",
   "execution_count": 6,
   "id": "2d2b0bb1",
   "metadata": {},
   "outputs": [],
   "source": [
    "GPU = 0\n",
    "CPU = 0"
   ]
  },
  {
   "cell_type": "markdown",
   "id": "77172d19",
   "metadata": {},
   "source": [
    "Resolution flags"
   ]
  },
  {
   "cell_type": "code",
   "execution_count": 7,
   "id": "3b07ee9a",
   "metadata": {},
   "outputs": [],
   "source": [
    "HR = True"
   ]
  },
  {
   "cell_type": "markdown",
   "id": "f16b0ae9",
   "metadata": {},
   "source": [
    "Scratch Flags"
   ]
  },
  {
   "cell_type": "code",
   "execution_count": 8,
   "id": "d11c1c69",
   "metadata": {},
   "outputs": [],
   "source": [
    "WITH_SCRATCH = False"
   ]
  },
  {
   "cell_type": "markdown",
   "id": "25841ec7",
   "metadata": {},
   "source": [
    "### Set up program configurations (Using Configuration Section Data)"
   ]
  },
  {
   "cell_type": "code",
   "execution_count": 9,
   "id": "143b7317",
   "metadata": {},
   "outputs": [],
   "source": [
    "gpu = GPU"
   ]
  },
  {
   "cell_type": "markdown",
   "id": "29274661",
   "metadata": {},
   "source": [
    "Folder location for input test files and output results.  These are not generic but hardwired to locactions in my server"
   ]
  },
  {
   "cell_type": "code",
   "execution_count": 10,
   "id": "f5a62327",
   "metadata": {},
   "outputs": [],
   "source": [
    "input_folder = os.path.abspath(INPUT_FOLDER)\n",
    "output_folder = os.path.abspath(OUTPUT_FOLDER)"
   ]
  },
  {
   "cell_type": "code",
   "execution_count": 11,
   "id": "acca823f",
   "metadata": {},
   "outputs": [
    {
     "name": "stdout",
     "output_type": "stream",
     "text": [
      "/mnt/work/dev/Bringing-Old-Photos-Back-to-Life/test_images/old\n",
      "/mnt/work/dev/Bringing-Old-Photos-Back-to-Life/output\n"
     ]
    }
   ],
   "source": [
    "print(input_folder)\n",
    "print(output_folder)"
   ]
  },
  {
   "cell_type": "code",
   "execution_count": 12,
   "id": "ec77df5a",
   "metadata": {},
   "outputs": [],
   "source": [
    "if not os.path.exists(output_folder):\n",
    "    os.makedirs(output_folder)"
   ]
  },
  {
   "cell_type": "code",
   "execution_count": 15,
   "id": "21382072",
   "metadata": {},
   "outputs": [
    {
     "name": "stdout",
     "output_type": "stream",
     "text": [
      "ansible.yaml\t    Face_Detection    kubernetes-pod.yml  README.md\r\n",
      "CODE_OF_CONDUCT.md  Face_Enhancement  LICENSE\t\t  requirements.txt\r\n",
      "cog.yaml\t    Global\t      notebooks\t\t  run.py\r\n",
      "Dockerfile\t    GUI.py\t      output\t\t  SECURITY.md\r\n",
      "download-weights    imgs\t      predict.py\t  test_images\r\n"
     ]
    }
   ],
   "source": [
    "!ls ../"
   ]
  },
  {
   "cell_type": "code",
   "execution_count": 16,
   "id": "dd842677",
   "metadata": {},
   "outputs": [
    {
     "name": "stdout",
     "output_type": "stream",
     "text": [
      "/mnt/work/dev/Bringing-Old-Photos-Back-to-Life/test_images/old\n",
      "/mnt/work/dev/Bringing-Old-Photos-Back-to-Life/output\n"
     ]
    }
   ],
   "source": [
    "print(input_folder)\n",
    "print(output_folder)"
   ]
  },
  {
   "cell_type": "markdown",
   "id": "ae91f3fc",
   "metadata": {},
   "source": [
    "## Restore Photos (Normal Mode)"
   ]
  },
  {
   "cell_type": "markdown",
   "id": "3cdead25",
   "metadata": {},
   "source": [
    "The next cells reproduce the operations from the following command line:\n",
    "\n",
    "`python run.py --input_folder /content/photo_restoration/test_images/old --output_folder /content/photo_restoration/output/ --GPU 0`"
   ]
  },
  {
   "cell_type": "markdown",
   "id": "568e473c",
   "metadata": {},
   "source": [
    "### Input Variables\n",
    "Besides any internal variables needed by `run.py`, the variables needed are:\n",
    "\n",
    "- input_folder\n",
    "- output_folder\n",
    "- GPU (which in this notebook is assume to be always ON)\n",
    "\n",
    "\n",
    "There is no error checking - I assume these variables are properly set before going on to the next cells"
   ]
  },
  {
   "cell_type": "code",
   "execution_count": 17,
   "id": "c16ce737",
   "metadata": {},
   "outputs": [
    {
     "name": "stdout",
     "output_type": "stream",
     "text": [
      "/mnt/work/dev/Bringing-Old-Photos-Back-to-Life/test_images/old\n",
      "/mnt/work/dev/Bringing-Old-Photos-Back-to-Life/output\n"
     ]
    }
   ],
   "source": [
    "# These lines are repeated from above, but for now here to help breaking down the original\n",
    "# code into Jupyter cells\n",
    "\n",
    "input_folder = os.path.abspath(INPUT_FOLDER)\n",
    "output_folder = os.path.abspath(OUTPUT_FOLDER)\n",
    "\n",
    "print(input_folder)\n",
    "print(output_folder)"
   ]
  },
  {
   "cell_type": "markdown",
   "id": "17a2dad7",
   "metadata": {},
   "source": [
    "### Internal Variables\n",
    "\n",
    "- `checkpoint_name` (default = Setting_9_epoch_100)\n",
    "- `with_scratch`.  Chooses whether picture has scratches or note\n",
    "- `HR.` High Resolution (what does this mean?) or NOT\n"
   ]
  },
  {
   "cell_type": "code",
   "execution_count": 18,
   "id": "648fabad",
   "metadata": {},
   "outputs": [],
   "source": [
    "checkpoint_name = \"Setting_9_epoch_100\"\n",
    "with_scratch = False"
   ]
  },
  {
   "cell_type": "markdown",
   "id": "6a1a0e15",
   "metadata": {},
   "source": [
    "## Stage1: Overall Quality Improvement"
   ]
  },
  {
   "cell_type": "code",
   "execution_count": 20,
   "id": "cc3ada69",
   "metadata": {},
   "outputs": [
    {
     "name": "stdout",
     "output_type": "stream",
     "text": [
      "Running Stage 1: Overall restoration\n",
      "/mnt/work/dev/Bringing-Old-Photos-Back-to-Life/Global\r\n"
     ]
    }
   ],
   "source": [
    "print(\"Running Stage 1: Overall restoration\")\n",
    "os.chdir(\"../Global\")\n",
    "!pwd"
   ]
  },
  {
   "cell_type": "code",
   "execution_count": 21,
   "id": "f5284d09",
   "metadata": {},
   "outputs": [],
   "source": [
    "stage_1_input_dir = input_folder"
   ]
  },
  {
   "cell_type": "code",
   "execution_count": 22,
   "id": "ca3cadf9",
   "metadata": {},
   "outputs": [
    {
     "name": "stdout",
     "output_type": "stream",
     "text": [
      "/mnt/work/dev/Bringing-Old-Photos-Back-to-Life/output/stage_1_restore_output\n"
     ]
    }
   ],
   "source": [
    "stage_1_output_dir = os.path.join(output_folder, \"stage_1_restore_output\")\n",
    "print(stage_1_output_dir)"
   ]
  },
  {
   "cell_type": "code",
   "execution_count": 23,
   "id": "72af5794",
   "metadata": {},
   "outputs": [],
   "source": [
    "if not os.path.exists(stage_1_output_dir):\n",
    "    os.makedirs(stage_1_output_dir)"
   ]
  },
  {
   "cell_type": "markdown",
   "id": "9bb5828c",
   "metadata": {},
   "source": [
    "### Scratch or no Scratch?"
   ]
  },
  {
   "cell_type": "code",
   "execution_count": 32,
   "id": "37d60395",
   "metadata": {},
   "outputs": [],
   "source": [
    "# No Scratch command.  Need to break down the command below into individual Jupyter cells\n",
    "# the test.py python file is in the Global directory. In the original python code the code\n",
    "# changes directory to Global to run the 'test.py' file.\n",
    "\n",
    "gpu1 = \"0\"\n",
    "\n",
    "stage_1_command = (\n",
    "            \"python test.py --test_mode Full --Quality_restore --test_input \"\n",
    "            + stage_1_input_dir\n",
    "            + \" --outputs_dir \"\n",
    "            + stage_1_output_dir\n",
    "            + \" --gpu_ids \"\n",
    "            + gpu1\n",
    "        )"
   ]
  },
  {
   "cell_type": "code",
   "execution_count": 33,
   "id": "9910105f",
   "metadata": {},
   "outputs": [
    {
     "name": "stdout",
     "output_type": "stream",
     "text": [
      "python test.py --test_mode Full --Quality_restore --test_input /mnt/work/dev/Bringing-Old-Photos-Back-to-Life/test_images/old --outputs_dir /mnt/work/dev/Bringing-Old-Photos-Back-to-Life/output/stage_1_restore_output --gpu_ids 0\n"
     ]
    }
   ],
   "source": [
    "print(stage_1_command)"
   ]
  },
  {
   "cell_type": "code",
   "execution_count": 35,
   "id": "9c844acf",
   "metadata": {},
   "outputs": [
    {
     "name": "stdout",
     "output_type": "stream",
     "text": [
      "/mnt/work/dev/Bringing-Old-Photos-Back-to-Life/Global\r\n"
     ]
    }
   ],
   "source": [
    "!pwd"
   ]
  },
  {
   "cell_type": "code",
   "execution_count": 34,
   "id": "866a8cbe",
   "metadata": {},
   "outputs": [
    {
     "name": "stdout",
     "output_type": "stream",
     "text": [
      "Mapping: You are using the mapping model without global restoration.\n",
      "Now you are processing a.png\n",
      "Now you are processing b.png\n",
      "Now you are processing c.png\n",
      "Now you are processing d.png\n",
      "Now you are processing e.png\n",
      "Now you are processing f.png\n",
      "Now you are processing g.png\n",
      "Now you are processing h.png\n"
     ]
    }
   ],
   "source": [
    "run_cmd(stage_1_command)"
   ]
  },
  {
   "cell_type": "markdown",
   "id": "9bc65c6e",
   "metadata": {},
   "source": [
    "###  Unpacking `test.py` into Jupyter cells"
   ]
  },
  {
   "cell_type": "code",
   "execution_count": 36,
   "id": "57592c7a",
   "metadata": {},
   "outputs": [],
   "source": [
    "import os\n",
    "from collections import OrderedDict\n",
    "\n",
    "import torch\n",
    "import torchvision.utils as vutils\n",
    "import torchvision.transforms as transforms\n",
    "from torch.autograd import Variable\n",
    "\n",
    "from options.test_options import TestOptions\n",
    "from models.models import create_model\n",
    "from models.mapping_model import Pix2PixHDModel_Mapping\n",
    "import util.util as util\n",
    "from PIL import Image\n",
    "\n",
    "import numpy as np\n",
    "import cv2"
   ]
  },
  {
   "cell_type": "code",
   "execution_count": 37,
   "id": "5ef79c25",
   "metadata": {},
   "outputs": [],
   "source": [
    "def data_transforms(img, method=Image.BILINEAR, scale=False):\n",
    "\n",
    "    ow, oh = img.size\n",
    "    pw, ph = ow, oh\n",
    "    if scale == True:\n",
    "        if ow < oh:\n",
    "            ow = 256\n",
    "            oh = ph / pw * 256\n",
    "        else:\n",
    "            oh = 256\n",
    "            ow = pw / ph * 256\n",
    "\n",
    "    h = int(round(oh / 4) * 4)\n",
    "    w = int(round(ow / 4) * 4)\n",
    "\n",
    "    if (h == ph) and (w == pw):\n",
    "        return img\n",
    "\n",
    "    return img.resize((w, h), method)\n"
   ]
  },
  {
   "cell_type": "code",
   "execution_count": 38,
   "id": "bc76c020",
   "metadata": {},
   "outputs": [],
   "source": [
    "def data_transforms_rgb_old(img):\n",
    "    w, h = img.size\n",
    "    A = img\n",
    "    if w < 256 or h < 256:\n",
    "        A = transforms.Scale(256, Image.BILINEAR)(img)\n",
    "    return transforms.CenterCrop(256)(A)"
   ]
  },
  {
   "cell_type": "code",
   "execution_count": 39,
   "id": "10cc5d97",
   "metadata": {},
   "outputs": [],
   "source": [
    "def irregular_hole_synthesize(img, mask):\n",
    "\n",
    "    img_np = np.array(img).astype(\"uint8\")\n",
    "    mask_np = np.array(mask).astype(\"uint8\")\n",
    "    mask_np = mask_np / 255\n",
    "    img_new = img_np * (1 - mask_np) + mask_np * 255\n",
    "\n",
    "    hole_img = Image.fromarray(img_new.astype(\"uint8\")).convert(\"RGB\")\n",
    "\n",
    "    return hole_img"
   ]
  },
  {
   "cell_type": "code",
   "execution_count": 40,
   "id": "67ed33ad",
   "metadata": {},
   "outputs": [],
   "source": [
    "def parameter_set(opt):\n",
    "    ## Default parameters\n",
    "    opt.serial_batches = True  # no shuffle\n",
    "    opt.no_flip = True  # no flip\n",
    "    opt.label_nc = 0\n",
    "    opt.n_downsample_global = 3\n",
    "    opt.mc = 64\n",
    "    opt.k_size = 4\n",
    "    opt.start_r = 1\n",
    "    opt.mapping_n_block = 6\n",
    "    opt.map_mc = 512\n",
    "    opt.no_instance = True\n",
    "    opt.checkpoints_dir = \"./checkpoints/restoration\"\n",
    "    ##\n",
    "\n",
    "    if opt.Quality_restore:\n",
    "        opt.name = \"mapping_quality\"\n",
    "        opt.load_pretrainA = os.path.join(opt.checkpoints_dir, \"VAE_A_quality\")\n",
    "        opt.load_pretrainB = os.path.join(opt.checkpoints_dir, \"VAE_B_quality\")\n",
    "    if opt.Scratch_and_Quality_restore:\n",
    "        opt.NL_res = True\n",
    "        opt.use_SN = True\n",
    "        opt.correlation_renormalize = True\n",
    "        opt.NL_use_mask = True\n",
    "        opt.NL_fusion_method = \"combine\"\n",
    "        opt.non_local = \"Setting_42\"\n",
    "        opt.name = \"mapping_scratch\"\n",
    "        opt.load_pretrainA = os.path.join(opt.checkpoints_dir, \"VAE_A_quality\")\n",
    "        opt.load_pretrainB = os.path.join(opt.checkpoints_dir, \"VAE_B_scratch\")\n",
    "        if opt.HR:\n",
    "            opt.mapping_exp = 1\n",
    "            opt.inference_optimize = True\n",
    "            opt.mask_dilation = 3\n",
    "            opt.name = \"mapping_Patch_Attention\""
   ]
  },
  {
   "cell_type": "code",
   "execution_count": null,
   "id": "ea5e2215",
   "metadata": {},
   "outputs": [],
   "source": [
    "    "
   ]
  },
  {
   "cell_type": "code",
   "execution_count": 42,
   "id": "323225ab",
   "metadata": {},
   "outputs": [],
   "source": [
    "model = Pix2PixHDModel_Mapping()"
   ]
  },
  {
   "cell_type": "code",
   "execution_count": null,
   "id": "9c3cc80b",
   "metadata": {},
   "outputs": [],
   "source": []
  },
  {
   "cell_type": "code",
   "execution_count": null,
   "id": "2bcf331c",
   "metadata": {},
   "outputs": [],
   "source": []
  },
  {
   "cell_type": "code",
   "execution_count": null,
   "id": "5de5ae54",
   "metadata": {},
   "outputs": [],
   "source": []
  },
  {
   "cell_type": "code",
   "execution_count": null,
   "id": "3afd0661",
   "metadata": {},
   "outputs": [],
   "source": []
  },
  {
   "cell_type": "code",
   "execution_count": null,
   "id": "e535110d",
   "metadata": {},
   "outputs": [],
   "source": []
  },
  {
   "cell_type": "code",
   "execution_count": null,
   "id": "0fe0e4d1",
   "metadata": {},
   "outputs": [],
   "source": []
  },
  {
   "cell_type": "code",
   "execution_count": null,
   "id": "97490f2c",
   "metadata": {},
   "outputs": [],
   "source": []
  },
  {
   "cell_type": "code",
   "execution_count": null,
   "id": "6aa11de9",
   "metadata": {},
   "outputs": [],
   "source": []
  },
  {
   "cell_type": "code",
   "execution_count": null,
   "id": "1c2502bc",
   "metadata": {},
   "outputs": [],
   "source": []
  },
  {
   "cell_type": "code",
   "execution_count": null,
   "id": "18fe15c8",
   "metadata": {},
   "outputs": [],
   "source": []
  }
 ],
 "metadata": {
  "kernelspec": {
   "display_name": "Python 3 (ipykernel)",
   "language": "python",
   "name": "python3"
  },
  "language_info": {
   "codemirror_mode": {
    "name": "ipython",
    "version": 3
   },
   "file_extension": ".py",
   "mimetype": "text/x-python",
   "name": "python",
   "nbconvert_exporter": "python",
   "pygments_lexer": "ipython3",
   "version": "3.7.11"
  }
 },
 "nbformat": 4,
 "nbformat_minor": 5
}
