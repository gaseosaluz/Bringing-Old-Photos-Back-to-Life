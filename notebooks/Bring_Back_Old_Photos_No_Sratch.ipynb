{
 "cells": [
  {
   "cell_type": "markdown",
   "id": "5496304a",
   "metadata": {},
   "source": [
    "# Bring Old Photos Back - No Scratches"
   ]
  },
  {
   "cell_type": "markdown",
   "id": "5a86fb2d",
   "metadata": {},
   "source": [
    "Jupyter Notebook version of the **Full Pipeline** example in the original Git repo from the Old Photo Restoration (Official Pytorch Implementation).\n",
    "\n",
    "This example will replicate the functionality from the **How to Use?** section (https://github.com/gaseosaluz/Bringing-Old-Photos-Back-to-Life#rocket-how-to-use). It will 'unwrap' the code from the `python run.py` command into Jupyter Notebook cells.  This is being done so that I can learn how the model and the sample code is applied to repair the various picture examples.\n",
    "\n",
    "Once the code has been unwrapped, the code will replicate the test results using the test data from the original repository."
   ]
  },
  {
   "cell_type": "markdown",
   "id": "e73cdd83",
   "metadata": {},
   "source": [
    "## Refereces"
   ]
  },
  {
   "cell_type": "markdown",
   "id": "594541e3",
   "metadata": {},
   "source": [
    "* Old Photo Restoration (Official PyTorch Implementation). https://github.com/gaseosaluz/Bringing-Old-Photos-Back-to-Life#rocket-how-to-use. **NOTE** This link is a link to my fork of the initial repository. I use this so that I can check in my additinal work w/o generating pull requests into the original repository.\n",
    "\n",
    "* Colab version of the project: https://colab.research.google.com/drive/1NEm6AsybIiC5TwTU_4DqDkQO0nFRB-uA?usp=sharing"
   ]
  },
  {
   "cell_type": "markdown",
   "id": "792b868c",
   "metadata": {},
   "source": [
    "## Development Notes\n",
    "\n",
    "* Current version of notebook assumes that the Synchronized-Batch-PyTorch repository has been cloned per instructions in the Microsoft Project's README.\n",
    "\n",
    "* Landmark detection pretrained model has also been previously downloaded per instructions in Microsoft Project's README\n",
    "\n",
    "* Checkpoints have been downloaded\n",
    "\n",
    "* Developmenet environment: dalontf. I created this conda development environment manually (did not use `pip` as described in README"
   ]
  },
  {
   "cell_type": "markdown",
   "id": "c6d64666",
   "metadata": {},
   "source": [
    "## Notebook Run Time Notes\n",
    "\n",
    "* This notebook assumes that there is a GPU present. If this is not set then the notebook will not run and/or produced indeterminate results\n",
    "\n",
    "* TBD "
   ]
  },
  {
   "cell_type": "markdown",
   "id": "e827e3d6",
   "metadata": {},
   "source": [
    "## Setup\n",
    "\n",
    "Environment setup"
   ]
  },
  {
   "cell_type": "code",
   "execution_count": 1,
   "id": "1e4a7dbd",
   "metadata": {},
   "outputs": [],
   "source": [
    "import os\n",
    "import shutil\n",
    "import sys\n",
    "from subprocess import call"
   ]
  },
  {
   "cell_type": "markdown",
   "id": "d60028af",
   "metadata": {},
   "source": [
    "Needed to display results "
   ]
  },
  {
   "cell_type": "code",
   "execution_count": 2,
   "id": "b482b7dc",
   "metadata": {},
   "outputs": [],
   "source": [
    "import io\n",
    "import IPython.display\n",
    "import numpy as np\n",
    "import PIL.Image"
   ]
  },
  {
   "cell_type": "markdown",
   "id": "b884a5db",
   "metadata": {},
   "source": [
    "## Functions\n",
    "These are functions from the original python code.  They are here temporarily and will eventually be replaced by various Jupyter cells that do the same job"
   ]
  },
  {
   "cell_type": "code",
   "execution_count": 3,
   "id": "8b46154d",
   "metadata": {},
   "outputs": [],
   "source": [
    "def run_cmd(command):\n",
    "    try:\n",
    "        call(command, shell=True)\n",
    "    except KeyboardInterrupt:\n",
    "        print(\"Process interrupted\")\n",
    "        sys.exit(1)\n"
   ]
  },
  {
   "cell_type": "markdown",
   "id": "f2617da0",
   "metadata": {},
   "source": [
    "## Program parameters\n",
    "\n",
    "These are the parameters that were passed to the original Python code via the command line parser"
   ]
  },
  {
   "cell_type": "markdown",
   "id": "54e7742f",
   "metadata": {},
   "source": [
    "### Configuration Section"
   ]
  },
  {
   "cell_type": "markdown",
   "id": "4d77ee93",
   "metadata": {},
   "source": [
    "Image locations"
   ]
  },
  {
   "cell_type": "code",
   "execution_count": 4,
   "id": "f674f3ef",
   "metadata": {},
   "outputs": [],
   "source": [
    "# Location for the input image(s)\n",
    "INPUT_FOLDER = \"../test_images/old\"\n",
    "\n",
    "# Location for the output (restored) Image(s)\n",
    "OUTPUT_FOLDER = \"../output\""
   ]
  },
  {
   "cell_type": "code",
   "execution_count": 5,
   "id": "c2888abb",
   "metadata": {},
   "outputs": [],
   "source": [
    "# GPU or CPU selection flags. The default is to ue 1 GPU since that is what I have in my system"
   ]
  },
  {
   "cell_type": "code",
   "execution_count": 6,
   "id": "95ce85c5",
   "metadata": {},
   "outputs": [],
   "source": [
    "GPU = 0\n",
    "CPU = 0"
   ]
  },
  {
   "cell_type": "markdown",
   "id": "c0babf2b",
   "metadata": {},
   "source": [
    "Resolution flags"
   ]
  },
  {
   "cell_type": "code",
   "execution_count": 7,
   "id": "618537e2",
   "metadata": {},
   "outputs": [],
   "source": [
    "HR = True"
   ]
  },
  {
   "cell_type": "markdown",
   "id": "b6122769",
   "metadata": {},
   "source": [
    "Scratch Flags"
   ]
  },
  {
   "cell_type": "code",
   "execution_count": 8,
   "id": "d1be3d00",
   "metadata": {},
   "outputs": [],
   "source": [
    "WITH_SCRATCH = False"
   ]
  },
  {
   "cell_type": "markdown",
   "id": "e76043e7",
   "metadata": {},
   "source": [
    "### Set up program configurations (Using Configuration Section Data)"
   ]
  },
  {
   "cell_type": "code",
   "execution_count": 9,
   "id": "ff7b7596",
   "metadata": {},
   "outputs": [],
   "source": [
    "gpu = GPU"
   ]
  },
  {
   "cell_type": "markdown",
   "id": "60e4b2c6",
   "metadata": {},
   "source": [
    "Folder location for input test files and output results.  These are not generic but hardwired to locactions in my server"
   ]
  },
  {
   "cell_type": "code",
   "execution_count": 10,
   "id": "a5261021",
   "metadata": {},
   "outputs": [],
   "source": [
    "input_folder = os.path.abspath(INPUT_FOLDER)\n",
    "output_folder = os.path.abspath(OUTPUT_FOLDER)"
   ]
  },
  {
   "cell_type": "code",
   "execution_count": 11,
   "id": "eb9940d3",
   "metadata": {},
   "outputs": [
    {
     "name": "stdout",
     "output_type": "stream",
     "text": [
      "/mnt/work/dev/Bringing-Old-Photos-Back-to-Life/test_images/old\n",
      "/mnt/work/dev/Bringing-Old-Photos-Back-to-Life/output\n"
     ]
    }
   ],
   "source": [
    "print(input_folder)\n",
    "print(output_folder)"
   ]
  },
  {
   "cell_type": "code",
   "execution_count": 12,
   "id": "364df5a1",
   "metadata": {},
   "outputs": [],
   "source": [
    "if not os.path.exists(output_folder):\n",
    "    os.makedirs(output_folder)"
   ]
  },
  {
   "cell_type": "code",
   "execution_count": 15,
   "id": "a23c346d",
   "metadata": {},
   "outputs": [
    {
     "name": "stdout",
     "output_type": "stream",
     "text": [
      "ansible.yaml\t    Face_Detection    kubernetes-pod.yml  README.md\r\n",
      "CODE_OF_CONDUCT.md  Face_Enhancement  LICENSE\t\t  requirements.txt\r\n",
      "cog.yaml\t    Global\t      notebooks\t\t  run.py\r\n",
      "Dockerfile\t    GUI.py\t      output\t\t  SECURITY.md\r\n",
      "download-weights    imgs\t      predict.py\t  test_images\r\n"
     ]
    }
   ],
   "source": [
    "!ls ../"
   ]
  },
  {
   "cell_type": "code",
   "execution_count": 16,
   "id": "bf4e81c3",
   "metadata": {},
   "outputs": [
    {
     "name": "stdout",
     "output_type": "stream",
     "text": [
      "/mnt/work/dev/Bringing-Old-Photos-Back-to-Life/test_images/old\n",
      "/mnt/work/dev/Bringing-Old-Photos-Back-to-Life/output\n"
     ]
    }
   ],
   "source": [
    "print(input_folder)\n",
    "print(output_folder)"
   ]
  },
  {
   "cell_type": "markdown",
   "id": "db61ca28",
   "metadata": {},
   "source": [
    "## Restore Photos (Normal Mode)"
   ]
  },
  {
   "cell_type": "markdown",
   "id": "e55c1b86",
   "metadata": {},
   "source": [
    "The next cells reproduce the operations from the following command line:\n",
    "\n",
    "`python run.py --input_folder /content/photo_restoration/test_images/old --output_folder /content/photo_restoration/output/ --GPU 0`"
   ]
  },
  {
   "cell_type": "markdown",
   "id": "459cfa77",
   "metadata": {},
   "source": [
    "### Input Variables\n",
    "Besides any internal variables needed by `run.py`, the variables needed are:\n",
    "\n",
    "- input_folder\n",
    "- output_folder\n",
    "- GPU (which in this notebook is assume to be always ON)\n",
    "\n",
    "\n",
    "There is no error checking - I assume these variables are properly set before going on to the next cells"
   ]
  },
  {
   "cell_type": "code",
   "execution_count": 17,
   "id": "b23dca39",
   "metadata": {},
   "outputs": [
    {
     "name": "stdout",
     "output_type": "stream",
     "text": [
      "/mnt/work/dev/Bringing-Old-Photos-Back-to-Life/test_images/old\n",
      "/mnt/work/dev/Bringing-Old-Photos-Back-to-Life/output\n"
     ]
    }
   ],
   "source": [
    "# These lines are repeated from above, but for now here to help breaking down the original\n",
    "# code into Jupyter cells\n",
    "\n",
    "input_folder = os.path.abspath(INPUT_FOLDER)\n",
    "output_folder = os.path.abspath(OUTPUT_FOLDER)\n",
    "\n",
    "print(input_folder)\n",
    "print(output_folder)"
   ]
  },
  {
   "cell_type": "markdown",
   "id": "875de058",
   "metadata": {},
   "source": [
    "### Internal Variables\n",
    "\n",
    "- `checkpoint_name` (default = Setting_9_epoch_100)\n",
    "- `with_scratch`.  Chooses whether picture has scratches or note\n",
    "- `HR.` High Resolution (what does this mean?) or NOT\n"
   ]
  },
  {
   "cell_type": "code",
   "execution_count": 18,
   "id": "2af6e62b",
   "metadata": {},
   "outputs": [],
   "source": [
    "checkpoint_name = \"Setting_9_epoch_100\"\n",
    "with_scratch = False"
   ]
  },
  {
   "cell_type": "markdown",
   "id": "02fc105b",
   "metadata": {},
   "source": [
    "## Stage1: Overall Quality Improvement"
   ]
  },
  {
   "cell_type": "code",
   "execution_count": 20,
   "id": "1c98febd",
   "metadata": {},
   "outputs": [
    {
     "name": "stdout",
     "output_type": "stream",
     "text": [
      "Running Stage 1: Overall restoration\n",
      "/mnt/work/dev/Bringing-Old-Photos-Back-to-Life/Global\r\n"
     ]
    }
   ],
   "source": [
    "print(\"Running Stage 1: Overall restoration\")\n",
    "os.chdir(\"../Global\")\n",
    "!pwd"
   ]
  },
  {
   "cell_type": "code",
   "execution_count": 21,
   "id": "d13dc98a",
   "metadata": {},
   "outputs": [],
   "source": [
    "stage_1_input_dir = input_folder"
   ]
  },
  {
   "cell_type": "code",
   "execution_count": 22,
   "id": "ad601b16",
   "metadata": {},
   "outputs": [
    {
     "name": "stdout",
     "output_type": "stream",
     "text": [
      "/mnt/work/dev/Bringing-Old-Photos-Back-to-Life/output/stage_1_restore_output\n"
     ]
    }
   ],
   "source": [
    "stage_1_output_dir = os.path.join(output_folder, \"stage_1_restore_output\")\n",
    "print(stage_1_output_dir)"
   ]
  },
  {
   "cell_type": "code",
   "execution_count": 23,
   "id": "e214d0e8",
   "metadata": {},
   "outputs": [],
   "source": [
    "if not os.path.exists(stage_1_output_dir):\n",
    "    os.makedirs(stage_1_output_dir)"
   ]
  },
  {
   "cell_type": "markdown",
   "id": "fe090ae0",
   "metadata": {},
   "source": [
    "### Scratch or no Scratch?"
   ]
  },
  {
   "cell_type": "code",
   "execution_count": 26,
   "id": "d26d0d13",
   "metadata": {},
   "outputs": [],
   "source": [
    "#No Scratch command.  Need to break down the command below into individual Jupyter cells\n",
    "gpu1 = \"0\"\n",
    "\n",
    "stage_1_command = (\n",
    "            \"python test.py --test_mode Full --Quality_restore --test_input \"\n",
    "            + stage_1_input_dir\n",
    "            + \" --outputs_dir \"\n",
    "            + stage_1_output_dir\n",
    "            + \" --gpu_ids \"\n",
    "            + gpu1\n",
    "        )"
   ]
  },
  {
   "cell_type": "code",
   "execution_count": 27,
   "id": "5d810281",
   "metadata": {},
   "outputs": [
    {
     "name": "stdout",
     "output_type": "stream",
     "text": [
      "python test.py --test_mode Full --Quality_restore --test_input /mnt/work/dev/Bringing-Old-Photos-Back-to-Life/test_images/old --outputs_dir /mnt/work/dev/Bringing-Old-Photos-Back-to-Life/output/stage_1_restore_output --gpu_ids 0\n"
     ]
    }
   ],
   "source": [
    "print(stage_1_command)"
   ]
  },
  {
   "cell_type": "code",
   "execution_count": null,
   "id": "811ab3e5",
   "metadata": {},
   "outputs": [],
   "source": []
  },
  {
   "cell_type": "code",
   "execution_count": null,
   "id": "d6fc61ae",
   "metadata": {},
   "outputs": [],
   "source": []
  },
  {
   "cell_type": "code",
   "execution_count": null,
   "id": "ebc2b22a",
   "metadata": {},
   "outputs": [],
   "source": []
  },
  {
   "cell_type": "code",
   "execution_count": null,
   "id": "c1affb8d",
   "metadata": {},
   "outputs": [],
   "source": []
  },
  {
   "cell_type": "code",
   "execution_count": null,
   "id": "3953d0c1",
   "metadata": {},
   "outputs": [],
   "source": []
  },
  {
   "cell_type": "code",
   "execution_count": null,
   "id": "80f5f7c2",
   "metadata": {},
   "outputs": [],
   "source": []
  },
  {
   "cell_type": "code",
   "execution_count": null,
   "id": "4ae929b0",
   "metadata": {},
   "outputs": [],
   "source": []
  },
  {
   "cell_type": "code",
   "execution_count": null,
   "id": "b9ab2cf9",
   "metadata": {},
   "outputs": [],
   "source": []
  },
  {
   "cell_type": "code",
   "execution_count": null,
   "id": "d1bef119",
   "metadata": {},
   "outputs": [],
   "source": []
  },
  {
   "cell_type": "code",
   "execution_count": null,
   "id": "af8f1aaa",
   "metadata": {},
   "outputs": [],
   "source": []
  }
 ],
 "metadata": {
  "kernelspec": {
   "display_name": "Python 3 (ipykernel)",
   "language": "python",
   "name": "python3"
  },
  "language_info": {
   "codemirror_mode": {
    "name": "ipython",
    "version": 3
   },
   "file_extension": ".py",
   "mimetype": "text/x-python",
   "name": "python",
   "nbconvert_exporter": "python",
   "pygments_lexer": "ipython3",
   "version": "3.7.11"
  }
 },
 "nbformat": 4,
 "nbformat_minor": 5
}
